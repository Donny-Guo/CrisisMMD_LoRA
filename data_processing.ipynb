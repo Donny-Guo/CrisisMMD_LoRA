{
 "cells": [
  {
   "cell_type": "code",
   "execution_count": 1,
   "id": "45c328ed",
   "metadata": {},
   "outputs": [],
   "source": [
    "import pandas as pd"
   ]
  },
  {
   "cell_type": "code",
   "execution_count": 2,
   "id": "c67b0e44",
   "metadata": {},
   "outputs": [],
   "source": [
    "# Read the TSV file\n",
    "# df = pd.read_csv('dataset/small_train.tsv', sep='\\t')\n",
    "df = pd.read_csv('dataset/task_informative_text_img_train.tsv', sep='\\t')"
   ]
  },
  {
   "cell_type": "code",
   "execution_count": 3,
   "id": "cf77d01d",
   "metadata": {},
   "outputs": [
    {
     "name": "stdout",
     "output_type": "stream",
     "text": [
      "                 event_name            tweet_id              image_id  \\\n",
      "0      california_wildfires  917791291823591425  917791291823591425_0   \n",
      "1      california_wildfires  917791291823591425  917791291823591425_1   \n",
      "2      california_wildfires  917793137925459968  917793137925459968_0   \n",
      "3      california_wildfires  917793137925459968  917793137925459968_1   \n",
      "4      california_wildfires  917793137925459968  917793137925459968_2   \n",
      "...                     ...                 ...                   ...   \n",
      "13603       hurricane_maria  912341945430798336  912341945430798336_0   \n",
      "13604        hurricane_irma  909936612196454403  909936612196454403_0   \n",
      "13605      hurricane_harvey  905581858485882881  905581858485882881_0   \n",
      "13606        hurricane_irma  909879746598723590  909879746598723590_0   \n",
      "13607     mexico_earthquake  910700764808564736  910700764808564736_0   \n",
      "\n",
      "                                              tweet_text  \\\n",
      "0      RT @Cal_OES: PLS SHARE: Weâ€™re capturing wild...   \n",
      "1      RT @Cal_OES: PLS SHARE: Weâ€™re capturing wild...   \n",
      "2      RT @KAKEnews: California wildfires destroy mor...   \n",
      "3      RT @KAKEnews: California wildfires destroy mor...   \n",
      "4      RT @KAKEnews: California wildfires destroy mor...   \n",
      "...                                                  ...   \n",
      "13603  11am #Maria update: tropical storm force winds...   \n",
      "13604  RT @WhereTraveler: Hurricane Irma Survival Gui...   \n",
      "13605  Thinking of doing a #DNA test? Buy a @FamilyTr...   \n",
      "13606  Now blaming Hurricane Irma on Ursula the Witch...   \n",
      "13607  Earthquake in Mexico rocks PH Embassy, no Fili...   \n",
      "\n",
      "                                                   image            label  \\\n",
      "0      data_image/california_wildfires/10_10_2017/917...      informative   \n",
      "1      data_image/california_wildfires/10_10_2017/917...  not_informative   \n",
      "2      data_image/california_wildfires/10_10_2017/917...      informative   \n",
      "3      data_image/california_wildfires/10_10_2017/917...      informative   \n",
      "4      data_image/california_wildfires/10_10_2017/917...      informative   \n",
      "...                                                  ...              ...   \n",
      "13603  data_image/hurricane_maria/25_9_2017/912341945...      informative   \n",
      "13604  data_image/hurricane_irma/19_9_2017/9099366121...      informative   \n",
      "13605  data_image/hurricane_harvey/7_9_2017/905581858...  not_informative   \n",
      "13606  data_image/hurricane_irma/18_9_2017/9098797465...      informative   \n",
      "13607  data_image/mexico_earthquake/21_9_2017/9107007...      informative   \n",
      "\n",
      "        label_text      label_image label_text_image  \n",
      "0      informative      informative         Positive  \n",
      "1      informative  not_informative         Negative  \n",
      "2      informative      informative         Positive  \n",
      "3      informative      informative         Positive  \n",
      "4      informative      informative         Positive  \n",
      "...            ...              ...              ...  \n",
      "13603  informative      informative         Positive  \n",
      "13604  informative  not_informative         Negative  \n",
      "13605  informative  not_informative         Negative  \n",
      "13606  informative  not_informative         Negative  \n",
      "13607  informative      informative         Positive  \n",
      "\n",
      "[13608 rows x 9 columns]\n"
     ]
    }
   ],
   "source": [
    "print(df)"
   ]
  },
  {
   "cell_type": "code",
   "execution_count": 6,
   "id": "d75f46c8",
   "metadata": {},
   "outputs": [
    {
     "name": "stdout",
     "output_type": "stream",
     "text": [
      "                                              tweet_text       label_text\n",
      "0      RT @Cal_OES: PLS SHARE: Weâ€™re capturing wild...      informative\n",
      "2      RT @KAKEnews: California wildfires destroy mor...      informative\n",
      "5      RT @TheAtlantic: Photos of California's destru...      informative\n",
      "8      Why California's #wildfires are worse in the f...      informative\n",
      "11     Playing with my new friend, Chai. She's a Cali...  not_informative\n",
      "...                                                  ...              ...\n",
      "13603  11am #Maria update: tropical storm force winds...      informative\n",
      "13604  RT @WhereTraveler: Hurricane Irma Survival Gui...      informative\n",
      "13605  Thinking of doing a #DNA test? Buy a @FamilyTr...      informative\n",
      "13606  Now blaming Hurricane Irma on Ursula the Witch...      informative\n",
      "13607  Earthquake in Mexico rocks PH Embassy, no Fili...      informative\n",
      "\n",
      "[11584 rows x 2 columns]\n"
     ]
    }
   ],
   "source": [
    "# Select only the 'tweet_text' and 'label_text' columns\n",
    "selected_columns = df[['tweet_text', 'label_text']]\n",
    "\n",
    "# Remove duplicates\n",
    "unique_data = selected_columns.drop_duplicates()\n",
    "\n",
    "# Display the results\n",
    "print(unique_data)"
   ]
  },
  {
   "cell_type": "code",
   "execution_count": 9,
   "id": "8694f5e1",
   "metadata": {},
   "outputs": [
    {
     "data": {
      "text/html": [
       "<div>\n",
       "<style scoped>\n",
       "    .dataframe tbody tr th:only-of-type {\n",
       "        vertical-align: middle;\n",
       "    }\n",
       "\n",
       "    .dataframe tbody tr th {\n",
       "        vertical-align: top;\n",
       "    }\n",
       "\n",
       "    .dataframe thead th {\n",
       "        text-align: right;\n",
       "    }\n",
       "</style>\n",
       "<table border=\"1\" class=\"dataframe\">\n",
       "  <thead>\n",
       "    <tr style=\"text-align: right;\">\n",
       "      <th></th>\n",
       "      <th>tweet_text</th>\n",
       "    </tr>\n",
       "    <tr>\n",
       "      <th>label_text</th>\n",
       "      <th></th>\n",
       "    </tr>\n",
       "  </thead>\n",
       "  <tbody>\n",
       "    <tr>\n",
       "      <th>informative</th>\n",
       "      <td>8285</td>\n",
       "    </tr>\n",
       "    <tr>\n",
       "      <th>not_informative</th>\n",
       "      <td>3299</td>\n",
       "    </tr>\n",
       "  </tbody>\n",
       "</table>\n",
       "</div>"
      ],
      "text/plain": [
       "                 tweet_text\n",
       "label_text                 \n",
       "informative            8285\n",
       "not_informative        3299"
      ]
     },
     "execution_count": 9,
     "metadata": {},
     "output_type": "execute_result"
    }
   ],
   "source": [
    "unique_data.groupby('label_text').count()"
   ]
  },
  {
   "cell_type": "code",
   "execution_count": 10,
   "id": "380c1d48",
   "metadata": {},
   "outputs": [],
   "source": [
    "unique_data.to_csv('dataset/text_train_cleaned.csv', sep='\\t', index=False)"
   ]
  },
  {
   "cell_type": "code",
   "execution_count": null,
   "id": "60e22417",
   "metadata": {},
   "outputs": [],
   "source": []
  },
  {
   "cell_type": "code",
   "execution_count": 10,
   "id": "6a9e8b45",
   "metadata": {},
   "outputs": [],
   "source": [
    "dev_df = pd.read_csv('dataset/task_informative_text_img_dev.tsv', sep='\\t')"
   ]
  },
  {
   "cell_type": "code",
   "execution_count": 11,
   "id": "65d7b5f2",
   "metadata": {},
   "outputs": [
    {
     "data": {
      "text/html": [
       "<div>\n",
       "<style scoped>\n",
       "    .dataframe tbody tr th:only-of-type {\n",
       "        vertical-align: middle;\n",
       "    }\n",
       "\n",
       "    .dataframe tbody tr th {\n",
       "        vertical-align: top;\n",
       "    }\n",
       "\n",
       "    .dataframe thead th {\n",
       "        text-align: right;\n",
       "    }\n",
       "</style>\n",
       "<table border=\"1\" class=\"dataframe\">\n",
       "  <thead>\n",
       "    <tr style=\"text-align: right;\">\n",
       "      <th></th>\n",
       "      <th>tweet_text</th>\n",
       "    </tr>\n",
       "    <tr>\n",
       "      <th>label_text</th>\n",
       "      <th></th>\n",
       "    </tr>\n",
       "  </thead>\n",
       "  <tbody>\n",
       "    <tr>\n",
       "      <th>informative</th>\n",
       "      <td>1612</td>\n",
       "    </tr>\n",
       "    <tr>\n",
       "      <th>not_informative</th>\n",
       "      <td>625</td>\n",
       "    </tr>\n",
       "  </tbody>\n",
       "</table>\n",
       "</div>"
      ],
      "text/plain": [
       "                 tweet_text\n",
       "label_text                 \n",
       "informative            1612\n",
       "not_informative         625"
      ]
     },
     "execution_count": 11,
     "metadata": {},
     "output_type": "execute_result"
    }
   ],
   "source": [
    "dev_df[['tweet_text', 'label_text']].groupby('label_text').count()"
   ]
  },
  {
   "cell_type": "code",
   "execution_count": null,
   "id": "62eda3f6",
   "metadata": {},
   "outputs": [],
   "source": []
  }
 ],
 "metadata": {
  "kernelspec": {
   "display_name": "Python 3 (ipykernel)",
   "language": "python",
   "name": "python3"
  },
  "language_info": {
   "codemirror_mode": {
    "name": "ipython",
    "version": 3
   },
   "file_extension": ".py",
   "mimetype": "text/x-python",
   "name": "python",
   "nbconvert_exporter": "python",
   "pygments_lexer": "ipython3",
   "version": "3.10.6"
  }
 },
 "nbformat": 4,
 "nbformat_minor": 5
}
